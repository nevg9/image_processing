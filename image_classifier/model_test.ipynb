{
 "cells": [
  {
   "cell_type": "code",
   "execution_count": 1,
   "metadata": {},
   "outputs": [],
   "source": [
    "import torch\n",
    "import torch.nn as nn\n",
    "import torch.optim as optim\n",
    "import torch.utils.data as data\n",
    "import torchvision\n",
    "from PIL import Image\n",
    "from PIL import ImageFile\n",
    "ImageFile.LOAD_TRUNCATED_IMAGES = True\n",
    "from torchvision import models, transforms\n",
    "from torch.utils.data import random_split\n",
    "from tqdm import tqdm"
   ]
  },
  {
   "cell_type": "code",
   "execution_count": 2,
   "metadata": {},
   "outputs": [],
   "source": [
    "# 图片预处理\n",
    "class ImageTransform():\n",
    "\n",
    "    def __init__(self, resize, mean, std):\n",
    "        self.data_transform = {\n",
    "            'train': transforms.Compose([\n",
    "                # data augmentation\n",
    "                transforms.RandomResizedCrop(\n",
    "                   resize, scale=(0.5, 1.0)),\n",
    "                transforms.RandomHorizontalFlip(), \n",
    "                # convert to tensor for PyTorch\n",
    "                transforms.ToTensor(),\n",
    "                # color normalization\n",
    "                transforms.Normalize(mean, std)\n",
    "            ]),\n",
    "            'val': transforms.Compose([\n",
    "                transforms.CenterCrop(resize),\n",
    "                transforms.ToTensor(),\n",
    "                transforms.Normalize(mean, std)\n",
    "            ])\n",
    "        }\n",
    "\n",
    "    def __call__(self, img, phase='train'):\n",
    "\n",
    "        return self.data_transform[phase](img)\n",
    "    \n",
    "def read_file(file, pos=True):\n",
    "    path = \"\"\n",
    "    if pos:\n",
    "        path = \"/home/data/image_classifier/target/\"\n",
    "    else:\n",
    "        path = \"/home/data/image_classifier/no_target/\"\n",
    "    file_list = []\n",
    "    for line in open(file):\n",
    "        file_list.append(path + line.strip().split(\"/\")[-1])\n",
    "\n",
    "    return file_list\n",
    "\n",
    "# 把传进来的file list切分为训练集和验证集\n",
    "def split_train_and_val(path_file, train_ratio, pos=True):\n",
    "        file_list = read_file(path_file, pos)\n",
    "        num_samples = len(file_list)\n",
    "        train_size = int(train_ratio * num_samples)\n",
    "        val_size = num_samples - train_size\n",
    "        train_file_list, val_file_list = random_split(file_list, [train_size, val_size])\n",
    "        print(f\"训练集大小:{len(train_file_list)},验证集大小:{len(val_file_list)}\")\n",
    "        return train_file_list, val_file_list"
   ]
  },
  {
   "cell_type": "code",
   "execution_count": 3,
   "metadata": {},
   "outputs": [],
   "source": [
    "# 训练数据DataSet\n",
    "\n",
    "class forestDataset(data.Dataset):\n",
    "\n",
    "    def __init__(self, pos_file_list, neg_file_list, transform=None, phase='train'):\n",
    "        self.pos_file_list = self.check_image_invalid(pos_file_list, True)\n",
    "        self.neg_file_list = self.check_image_invalid(neg_file_list, False)\n",
    "        self.total_file_list = self.pos_file_list + self.neg_file_list\n",
    "        self.transform = transform\n",
    "        self.phase = phase\n",
    "    \n",
    "    # 判断图片路径是否有效\n",
    "    def check_image_invalid(self, file_list, pos=True):\n",
    "        valid_image_list = []\n",
    "        if pos:\n",
    "            fd = open('invald_image_pos_data.txt', 'w')\n",
    "        else:\n",
    "            fd = open('invald_image_neg_data.txt', 'w')\n",
    "        \n",
    "        for file in file_list:\n",
    "            try:\n",
    "                Image.open(file)\n",
    "                valid_image_list.append(file)\n",
    "            except Exception as e:\n",
    "                fd.write(file + \"\\n\")\n",
    "\n",
    "        print(f\"invalid image size:{len(file_list) - len(valid_image_list)},input image size:{len(file_list)}\")\n",
    "        return valid_image_list\n",
    "\n",
    "    def __len__(self):\n",
    "        return len(self.total_file_list)\n",
    "\n",
    "    def __getitem__(self, index):\n",
    "\n",
    "        # load image\n",
    "        img_path = self.total_file_list[index]\n",
    "\n",
    "        # 读取到的图片有问题，则返回None\n",
    "        img_originalsize = Image.open(img_path)\n",
    "\n",
    "        # resize\n",
    "        img = img_originalsize.resize((256, 256))\n",
    "\n",
    "        # preprocess\n",
    "        img_transformed = self.transform(\n",
    "            img, self.phase)  # torch.Size([3, 224, 224])\n",
    "\n",
    "        # picking up labels\n",
    "        label = int(img_path in self.pos_file_list)\n",
    "\n",
    "\n",
    "        return img_transformed, label\n",
    "    "
   ]
  },
  {
   "cell_type": "code",
   "execution_count": 4,
   "metadata": {},
   "outputs": [
    {
     "name": "stdout",
     "output_type": "stream",
     "text": [
      "训练集大小:101660,验证集大小:11296\n",
      "训练集大小:81944,验证集大小:9105\n"
     ]
    }
   ],
   "source": [
    "size = 256\n",
    "mean = (0.485, 0.456, 0.406)\n",
    "std = (0.229, 0.224, 0.225)\n",
    "\n",
    "train_ratio = 0.9\n",
    "\n",
    "train_pos_file_list, val_pos_file_list = split_train_and_val(path_file=\"../have_target_images.txt\", train_ratio=train_ratio, pos=True)\n",
    "train_neg_file_list, val_neg_file_list = split_train_and_val(path_file=\"../no_target_images.txt\", train_ratio=train_ratio, pos=False)"
   ]
  },
  {
   "cell_type": "code",
   "execution_count": 6,
   "metadata": {},
   "outputs": [
    {
     "name": "stdout",
     "output_type": "stream",
     "text": [
      "invalid image size:2,input image size:101660\n",
      "invalid image size:17,input image size:81944\n",
      "invalid image size:0,input image size:11296\n",
      "invalid image size:3,input image size:9105\n"
     ]
    }
   ],
   "source": [
    "train_dataset = forestDataset(train_pos_file_list, train_neg_file_list, transform=ImageTransform(size, mean, std), phase='train')\n",
    "val_dataset = forestDataset(val_pos_file_list, val_neg_file_list, transform=ImageTransform(size, mean, std), phase='val')\n",
    "\n",
    "batch_size = 32\n",
    "\n",
    "train_dataloader = torch.utils.data.DataLoader(\n",
    "    train_dataset, batch_size=batch_size, shuffle=True, pin_memory=True, num_workers=28, prefetch_factor=16, drop_last=True)\n",
    "\n",
    "val_dataloader = torch.utils.data.DataLoader(\n",
    "    val_dataset, batch_size=batch_size, shuffle=False, pin_memory=True, num_workers=28, prefetch_factor=16, drop_last=True)\n",
    "\n",
    "# put dataloader into dictionary type\n",
    "dataloaders_dict = {\"train\": train_dataloader, \"val\": val_dataloader}"
   ]
  },
  {
   "cell_type": "code",
   "execution_count": 8,
   "metadata": {},
   "outputs": [],
   "source": [
    "import hashlib\n",
    "def get_file_path(pic_id):\n",
    "    # 计算图片id的md5\n",
    "    md5hash = hashlib.md5(pic_id.encode('utf-8'))\n",
    "    md5 = md5hash.hexdigest()\n",
    "\n",
    "    root_dir = \"/hpc_input_fs\"\n",
    "\n",
    "    first = md5[0]\n",
    "    second = md5[1:3]\n",
    "    third = md5[3:6]\n",
    "    path = \"/\".join([root_dir, first, second, third, pic_id])\n",
    "    print(path)"
   ]
  },
  {
   "attachments": {},
   "cell_type": "markdown",
   "metadata": {},
   "source": [
    "### 使用vgg16预训练模型"
   ]
  },
  {
   "cell_type": "code",
   "execution_count": 9,
   "metadata": {},
   "outputs": [
    {
     "name": "stderr",
     "output_type": "stream",
     "text": [
      "/root/miniconda3/envs/torch2/lib/python3.10/site-packages/torchvision/models/_utils.py:208: UserWarning: The parameter 'pretrained' is deprecated since 0.13 and may be removed in the future, please use 'weights' instead.\n",
      "  warnings.warn(\n",
      "/root/miniconda3/envs/torch2/lib/python3.10/site-packages/torchvision/models/_utils.py:223: UserWarning: Arguments other than a weight enum or `None` for 'weights' are deprecated since 0.13 and may be removed in the future. The current behavior is equivalent to passing `weights=VGG16_Weights.IMAGENET1K_V1`. You can also use `weights=VGG16_Weights.DEFAULT` to get the most up-to-date weights.\n",
      "  warnings.warn(msg)\n"
     ]
    },
    {
     "data": {
      "text/plain": [
       "VGG(\n",
       "  (features): Sequential(\n",
       "    (0): Conv2d(3, 64, kernel_size=(3, 3), stride=(1, 1), padding=(1, 1))\n",
       "    (1): ReLU(inplace=True)\n",
       "    (2): Conv2d(64, 64, kernel_size=(3, 3), stride=(1, 1), padding=(1, 1))\n",
       "    (3): ReLU(inplace=True)\n",
       "    (4): MaxPool2d(kernel_size=2, stride=2, padding=0, dilation=1, ceil_mode=False)\n",
       "    (5): Conv2d(64, 128, kernel_size=(3, 3), stride=(1, 1), padding=(1, 1))\n",
       "    (6): ReLU(inplace=True)\n",
       "    (7): Conv2d(128, 128, kernel_size=(3, 3), stride=(1, 1), padding=(1, 1))\n",
       "    (8): ReLU(inplace=True)\n",
       "    (9): MaxPool2d(kernel_size=2, stride=2, padding=0, dilation=1, ceil_mode=False)\n",
       "    (10): Conv2d(128, 256, kernel_size=(3, 3), stride=(1, 1), padding=(1, 1))\n",
       "    (11): ReLU(inplace=True)\n",
       "    (12): Conv2d(256, 256, kernel_size=(3, 3), stride=(1, 1), padding=(1, 1))\n",
       "    (13): ReLU(inplace=True)\n",
       "    (14): Conv2d(256, 256, kernel_size=(3, 3), stride=(1, 1), padding=(1, 1))\n",
       "    (15): ReLU(inplace=True)\n",
       "    (16): MaxPool2d(kernel_size=2, stride=2, padding=0, dilation=1, ceil_mode=False)\n",
       "    (17): Conv2d(256, 512, kernel_size=(3, 3), stride=(1, 1), padding=(1, 1))\n",
       "    (18): ReLU(inplace=True)\n",
       "    (19): Conv2d(512, 512, kernel_size=(3, 3), stride=(1, 1), padding=(1, 1))\n",
       "    (20): ReLU(inplace=True)\n",
       "    (21): Conv2d(512, 512, kernel_size=(3, 3), stride=(1, 1), padding=(1, 1))\n",
       "    (22): ReLU(inplace=True)\n",
       "    (23): MaxPool2d(kernel_size=2, stride=2, padding=0, dilation=1, ceil_mode=False)\n",
       "    (24): Conv2d(512, 512, kernel_size=(3, 3), stride=(1, 1), padding=(1, 1))\n",
       "    (25): ReLU(inplace=True)\n",
       "    (26): Conv2d(512, 512, kernel_size=(3, 3), stride=(1, 1), padding=(1, 1))\n",
       "    (27): ReLU(inplace=True)\n",
       "    (28): Conv2d(512, 512, kernel_size=(3, 3), stride=(1, 1), padding=(1, 1))\n",
       "    (29): ReLU(inplace=True)\n",
       "    (30): MaxPool2d(kernel_size=2, stride=2, padding=0, dilation=1, ceil_mode=False)\n",
       "  )\n",
       "  (avgpool): AdaptiveAvgPool2d(output_size=(7, 7))\n",
       "  (classifier): Sequential(\n",
       "    (0): Linear(in_features=25088, out_features=4096, bias=True)\n",
       "    (1): ReLU(inplace=True)\n",
       "    (2): Dropout(p=0.5, inplace=False)\n",
       "    (3): Linear(in_features=4096, out_features=4096, bias=True)\n",
       "    (4): ReLU(inplace=True)\n",
       "    (5): Dropout(p=0.5, inplace=False)\n",
       "    (6): Linear(in_features=4096, out_features=2, bias=True)\n",
       "  )\n",
       ")"
      ]
     },
     "execution_count": 9,
     "metadata": {},
     "output_type": "execute_result"
    }
   ],
   "source": [
    "# load pretrained vgg16 from PyTorch as an instance\n",
    "# need to make setting 'internet' to 'On'.\n",
    "use_pretrained = True\n",
    "net = models.vgg16(pretrained=use_pretrained)\n",
    "\n",
    "# Replace output layer for 2 class classifier, \n",
    "net.classifier[6] = nn.Linear(in_features=4096, out_features=2)\n",
    "\n",
    "net.train()"
   ]
  },
  {
   "cell_type": "code",
   "execution_count": 10,
   "metadata": {},
   "outputs": [],
   "source": [
    "# setting of loss function\n",
    "criterion = nn.CrossEntropyLoss()\n",
    "\n",
    "# setting fine tuned parameters\n",
    "\n",
    "params_to_update_1 = []\n",
    "params_to_update_2 = []\n",
    "params_to_update_3 = []\n",
    "\n",
    "# Not only output layer, \"features\" layers and other classifier layers are tuned.\n",
    "update_param_names_1 = [\"features\"]\n",
    "update_param_names_2 = [\"classifier.0.weight\",\n",
    "                        \"classifier.0.bias\", \"classifier.3.weight\", \"classifier.3.bias\"]\n",
    "update_param_names_3 = [\"classifier.6.weight\", \"classifier.6.bias\"]\n",
    "\n",
    "# store parameters in list\n",
    "for name, param in net.named_parameters():\n",
    "    if update_param_names_1[0] in name:\n",
    "        param.requires_grad = True\n",
    "        params_to_update_1.append(param)\n",
    "        #print(\"params_to_update_1:\", name)\n",
    "\n",
    "    elif name in update_param_names_2:\n",
    "        param.requires_grad = True\n",
    "        params_to_update_2.append(param)\n",
    "        #print(\"params_to_update_2:\", name)\n",
    "\n",
    "    elif name in update_param_names_3:\n",
    "        param.requires_grad = True\n",
    "        params_to_update_3.append(param)\n",
    "        #print(\"params_to_update_3:\", name)\n",
    "\n",
    "    else:\n",
    "        param.requires_grad = False\n",
    "        #print(\"no learning\", name)\n",
    "\n",
    "# print(\"-----------\")\n",
    "# print(params_to_update_1)\n",
    "\n",
    "# Learning Rates\n",
    "optimizer = optim.SGD([\n",
    "    {'params': params_to_update_1, 'lr': 1e-4},\n",
    "    {'params': params_to_update_2, 'lr': 5e-4},\n",
    "    {'params': params_to_update_3, 'lr': 1e-3}\n",
    "], momentum=0.9)"
   ]
  },
  {
   "cell_type": "code",
   "execution_count": 11,
   "metadata": {},
   "outputs": [],
   "source": [
    "# training function\n",
    "def train_model(net, dataloaders_dict, criterion, optimizer, num_epochs):\n",
    "    \n",
    "    accuracy_list = []\n",
    "    loss_list = []\n",
    "    \n",
    "    # Precondition : Accelerator GPU -> 'On'\n",
    "    device = torch.device(\"cuda:0\" if torch.cuda.is_available() else \"cpu\")\n",
    "    print(\"using device：\", device)\n",
    "\n",
    "    # put network into GPU\n",
    "    net.to(device)\n",
    "    torch.backends.cudnn.benchmark = True\n",
    "\n",
    "    # epoch loop\n",
    "    for epoch in range(num_epochs):\n",
    "        print('Epoch {}/{}'.format(epoch+1, num_epochs))\n",
    "        print('-------------')\n",
    "\n",
    "        for phase in ['train', 'val']:\n",
    "            if phase == 'train':\n",
    "                net.train()  # set network 'train' mode\n",
    "            else:\n",
    "                net.eval()   # set network 'val' mode\n",
    "\n",
    "            epoch_loss = 0.0\n",
    "            epoch_corrects = 0\n",
    "\n",
    "            # Before training\n",
    "            if (epoch == 0) and (phase == 'train'):\n",
    "                continue\n",
    "            \n",
    "            # batch loop\n",
    "            for inputs, labels in tqdm(dataloaders_dict[phase]):\n",
    "                # send data to GPU\n",
    "                inputs = inputs.to(device)\n",
    "                labels = labels.to(device)\n",
    "                \n",
    "                # initialize optimizer\n",
    "                optimizer.zero_grad()\n",
    "\n",
    "                # forward\n",
    "                with torch.set_grad_enabled(phase == 'train'):\n",
    "                    outputs = net(inputs)\n",
    "\n",
    "                    loss = criterion(outputs, labels)  #calcurate loss\n",
    "                    _, preds = torch.max(outputs, 1)  # predict\n",
    "  \n",
    "                    # back propagtion\n",
    "                    if phase == 'train':\n",
    "                        loss.backward()\n",
    "                        optimizer.step()\n",
    "\n",
    "                    # update loss summation\n",
    "                    epoch_loss += loss.item() * inputs.size(0)  \n",
    "                    # update correct prediction summation\n",
    "                    epoch_corrects += torch.sum(preds == labels.data)\n",
    "\n",
    "            # loss and accuracy for each epoch loop\n",
    "            epoch_loss = epoch_loss / len(dataloaders_dict[phase].dataset)\n",
    "            epoch_acc = epoch_corrects.double(\n",
    "            ) / len(dataloaders_dict[phase].dataset)\n",
    "            \n",
    "            print('{} Loss: {:.4f} Acc: {:.4f}'.format(\n",
    "                phase, epoch_loss, epoch_acc))\n",
    "            \n",
    "            if phase == 'val':\n",
    "                accuracy_list.append(epoch_acc.item())\n",
    "                loss_list.append(epoch_loss)\n",
    "            \n",
    "    return accuracy_list, loss_list"
   ]
  },
  {
   "cell_type": "code",
   "execution_count": 12,
   "metadata": {},
   "outputs": [
    {
     "name": "stdout",
     "output_type": "stream",
     "text": [
      "using device： cuda:0\n",
      "Epoch 1/10\n",
      "-------------\n"
     ]
    },
    {
     "name": "stderr",
     "output_type": "stream",
     "text": [
      "100%|██████████| 637/637 [02:49<00:00,  3.75it/s]\n"
     ]
    },
    {
     "name": "stdout",
     "output_type": "stream",
     "text": [
      "val Loss: 0.7525 Acc: 0.4353\n",
      "Epoch 2/10\n",
      "-------------\n"
     ]
    },
    {
     "name": "stderr",
     "output_type": "stream",
     "text": [
      "100%|██████████| 5737/5737 [54:44<00:00,  1.75it/s]\n"
     ]
    },
    {
     "name": "stdout",
     "output_type": "stream",
     "text": [
      "train Loss: 0.2925 Acc: 0.8665\n"
     ]
    },
    {
     "name": "stderr",
     "output_type": "stream",
     "text": [
      "100%|██████████| 637/637 [02:29<00:00,  4.26it/s]\n"
     ]
    },
    {
     "name": "stdout",
     "output_type": "stream",
     "text": [
      "val Loss: 0.2222 Acc: 0.9049\n",
      "Epoch 3/10\n",
      "-------------\n"
     ]
    },
    {
     "name": "stderr",
     "output_type": "stream",
     "text": [
      "100%|██████████| 5737/5737 [54:28<00:00,  1.76it/s]\n"
     ]
    },
    {
     "name": "stdout",
     "output_type": "stream",
     "text": [
      "train Loss: 0.2379 Acc: 0.8950\n"
     ]
    },
    {
     "name": "stderr",
     "output_type": "stream",
     "text": [
      "100%|██████████| 637/637 [02:28<00:00,  4.29it/s]\n"
     ]
    },
    {
     "name": "stdout",
     "output_type": "stream",
     "text": [
      "val Loss: 0.2066 Acc: 0.9112\n",
      "Epoch 4/10\n",
      "-------------\n"
     ]
    },
    {
     "name": "stderr",
     "output_type": "stream",
     "text": [
      " 89%|████████▉ | 5100/5737 [48:25<06:00,  1.77it/s]"
     ]
    }
   ],
   "source": [
    "num_epochs=10\n",
    "accuracy_list, loss_list = train_model(net, dataloaders_dict, criterion, optimizer, num_epochs=num_epochs)\n",
    "\n",
    "torch.save(net.state_dict, \"image_classifier_model_v1.pth\")"
   ]
  },
  {
   "cell_type": "code",
   "execution_count": null,
   "metadata": {},
   "outputs": [],
   "source": []
  }
 ],
 "metadata": {
  "kernelspec": {
   "display_name": "torch2",
   "language": "python",
   "name": "python3"
  },
  "language_info": {
   "codemirror_mode": {
    "name": "ipython",
    "version": 3
   },
   "file_extension": ".py",
   "mimetype": "text/x-python",
   "name": "python",
   "nbconvert_exporter": "python",
   "pygments_lexer": "ipython3",
   "version": "3.10.11"
  },
  "orig_nbformat": 4
 },
 "nbformat": 4,
 "nbformat_minor": 2
}
